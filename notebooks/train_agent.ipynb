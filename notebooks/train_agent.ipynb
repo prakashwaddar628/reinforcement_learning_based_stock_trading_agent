{
 "cells": [
  {
   "cell_type": "code",
   "execution_count": 1,
   "id": "43e013a2",
   "metadata": {},
   "outputs": [],
   "source": [
    "import yfinance as yf\n",
    "import os\n",
    "import pandas as pd"
   ]
  },
  {
   "cell_type": "code",
   "execution_count": 2,
   "id": "fdf0fea8",
   "metadata": {},
   "outputs": [
    {
     "name": "stdout",
     "output_type": "stream",
     "text": [
      "YF.download() has changed argument auto_adjust default to True\n"
     ]
    },
    {
     "name": "stderr",
     "output_type": "stream",
     "text": [
      "[*********************100%***********************]  8 of 8 completed\n"
     ]
    },
    {
     "name": "stdout",
     "output_type": "stream",
     "text": [
      "Price          Close                                                      \\\n",
      "Ticker          AAPL    AMZN        DIS      GOOGL       INTC       MSFT   \n",
      "Date                                                                       \n",
      "2010-01-04  6.440331  6.6950  27.593046  15.609803  13.519425  23.254055   \n",
      "2010-01-05  6.451465  6.7345  27.524214  15.541063  13.512956  23.261566   \n",
      "2010-01-06  6.348846  6.6125  27.377949  15.149294  13.467628  23.118811   \n",
      "2010-01-07  6.337110  6.5000  27.386549  14.796625  13.338137  22.878374   \n",
      "2010-01-08  6.379241  6.6760  27.429569  14.993880  13.487050  23.036161   \n",
      "\n",
      "Price                          High          ...      Open          Volume  \\\n",
      "Ticker          NFLX TSLA      AAPL    AMZN  ...      NFLX TSLA       AAPL   \n",
      "Date                                         ...                             \n",
      "2010-01-04  7.640000  NaN  6.455076  6.8305  ...  7.931429  NaN  493729600   \n",
      "2010-01-05  7.358571  NaN  6.487878  6.7740  ...  7.652857  NaN  601904800   \n",
      "2010-01-06  7.617143  NaN  6.477045  6.7365  ...  7.361429  NaN  552160000   \n",
      "2010-01-07  7.485714  NaN  6.379844  6.6160  ...  7.731429  NaN  477131200   \n",
      "2010-01-08  7.614286  NaN  6.379843  6.6840  ...  7.498571  NaN  447610800   \n",
      "\n",
      "Price                                                                          \n",
      "Ticker           AMZN       DIS      GOOGL      INTC      MSFT      NFLX TSLA  \n",
      "Date                                                                           \n",
      "2010-01-04  151998000  13700400   78169752  47800900  38409100  17239600  NaN  \n",
      "2010-01-05  177038000  10307700  120067812  52357700  49749600  23753100  NaN  \n",
      "2010-01-06  143576000  10709500  158988852  40037400  58182400  23290400  NaN  \n",
      "2010-01-07  220604000   8202100  256315428  54041500  50559700   9955400  NaN  \n",
      "2010-01-08  196610000   7657500  188783028  48234700  51197400   8180900  NaN  \n",
      "\n",
      "[5 rows x 40 columns]\n"
     ]
    }
   ],
   "source": [
    "tickers = [\"AAPL\", \"MSFT\", \"INTC\", \"AMZN\", \"TSLA\", \"GOOGL\", \"NFLX\", \"DIS\"]\n",
    "data = yf.download(tickers, start=\"2010-01-01\", end=\"2025-01-01\")\n",
    "if data.empty:\n",
    "    print(\"No data found for the specified ticker and date range.\")\n",
    "    exit()\n",
    "else:\n",
    "    os.makedirs('../data/raw', exist_ok=True)\n",
    "\n",
    "    for ticker in tickers:\n",
    "        tickers_data = data.xs(ticker, level=1, axis=1)\n",
    "        tickers_data.to_csv(f'../data/raw/{ticker}.csv')\n",
    "\n",
    "print(data.head())"
   ]
  },
  {
   "cell_type": "code",
   "execution_count": 3,
   "id": "b58ea279",
   "metadata": {},
   "outputs": [
    {
     "name": "stderr",
     "output_type": "stream",
     "text": [
      "C:\\Users\\praka\\AppData\\Local\\Temp\\ipykernel_19268\\1048880149.py:7: FutureWarning: DataFrame.fillna with 'method' is deprecated and will raise in a future version. Use obj.ffill() or obj.bfill() instead.\n",
      "  df.fillna(method='ffill', inplace=True)\n",
      "C:\\Users\\praka\\AppData\\Local\\Temp\\ipykernel_19268\\1048880149.py:7: FutureWarning: DataFrame.fillna with 'method' is deprecated and will raise in a future version. Use obj.ffill() or obj.bfill() instead.\n",
      "  df.fillna(method='ffill', inplace=True)\n",
      "C:\\Users\\praka\\AppData\\Local\\Temp\\ipykernel_19268\\1048880149.py:7: FutureWarning: DataFrame.fillna with 'method' is deprecated and will raise in a future version. Use obj.ffill() or obj.bfill() instead.\n",
      "  df.fillna(method='ffill', inplace=True)\n",
      "C:\\Users\\praka\\AppData\\Local\\Temp\\ipykernel_19268\\1048880149.py:7: FutureWarning: DataFrame.fillna with 'method' is deprecated and will raise in a future version. Use obj.ffill() or obj.bfill() instead.\n",
      "  df.fillna(method='ffill', inplace=True)\n",
      "C:\\Users\\praka\\AppData\\Local\\Temp\\ipykernel_19268\\1048880149.py:7: FutureWarning: DataFrame.fillna with 'method' is deprecated and will raise in a future version. Use obj.ffill() or obj.bfill() instead.\n",
      "  df.fillna(method='ffill', inplace=True)\n",
      "C:\\Users\\praka\\AppData\\Local\\Temp\\ipykernel_19268\\1048880149.py:7: FutureWarning: DataFrame.fillna with 'method' is deprecated and will raise in a future version. Use obj.ffill() or obj.bfill() instead.\n",
      "  df.fillna(method='ffill', inplace=True)\n",
      "C:\\Users\\praka\\AppData\\Local\\Temp\\ipykernel_19268\\1048880149.py:7: FutureWarning: DataFrame.fillna with 'method' is deprecated and will raise in a future version. Use obj.ffill() or obj.bfill() instead.\n",
      "  df.fillna(method='ffill', inplace=True)\n",
      "C:\\Users\\praka\\AppData\\Local\\Temp\\ipykernel_19268\\1048880149.py:7: FutureWarning: DataFrame.fillna with 'method' is deprecated and will raise in a future version. Use obj.ffill() or obj.bfill() instead.\n",
      "  df.fillna(method='ffill', inplace=True)\n"
     ]
    }
   ],
   "source": [
    "def preprocess_data(tickers, data_dir='../data/raw/'):\n",
    "    preprocess_data = {}\n",
    "\n",
    "    for ticker in tickers:\n",
    "        df = pd.read_csv(f'{data_dir}{ticker}.csv', index_col='Date', parse_dates=True)\n",
    "\n",
    "        df.fillna(method='ffill', inplace=True)\n",
    "        df['Close'] = df['Close'] / df['Close'].iloc[0]\n",
    "        df['SMA_50'] = df['Close'].rolling(window=50).mean()\n",
    "\n",
    "        preprocess_data[ticker] = df\n",
    "    \n",
    "    return preprocess_data\n",
    "\n",
    "preprocessed_data = preprocess_data(tickers)"
   ]
  },
  {
   "cell_type": "code",
   "execution_count": 4,
   "id": "95973c70",
   "metadata": {},
   "outputs": [],
   "source": [
    "import gym\n",
    "from gym import spaces\n",
    "import numpy as np"
   ]
  },
  {
   "cell_type": "code",
   "execution_count": 17,
   "id": "b9556a20",
   "metadata": {},
   "outputs": [],
   "source": [
    "class TradingEnv(gym.Env):\n",
    "    def __init__(self, data, window_size=30):\n",
    "        super(TradingEnv, self).__init__()\n",
    "\n",
    "        self.data = data\n",
    "        self.window_size = window_size\n",
    "        self.current_step = 0\n",
    "        self.stock_price = self.data['Close'].values\n",
    "\n",
    "        # Track agent's portfolio (initially no stock, and all cash)\n",
    "        self.stock_held = 0\n",
    "        self.balance = 1000  # starting balance (cash)\n",
    "        \n",
    "        self.action_space = spaces.Discrete(3)  # 0 - sell, 1 - hold, 2 - buy\n",
    "        self.observation_space = spaces.Box(\n",
    "            low=0, high=np.inf, shape=(self.window_size, len(self.data.columns)), dtype=np.float32\n",
    "        )\n",
    "    \n",
    "    def reset(self):\n",
    "        self.current_step = self.window_size\n",
    "        self.stock_held = 0\n",
    "        self.balance = 1000\n",
    "        return self._next_observation()  # Corrected here\n",
    "\n",
    "    \n",
    "    def _next_observation(self):\n",
    "        obs = self.data.iloc[self.current_step - self.window_size:self.current_step].values\n",
    "        obs = np.nan_to_num(obs, nan=0.0)  # Replace NaN with 0\n",
    "        return np.array(obs)\n",
    "\n",
    "    \n",
    "    def step(self, action):\n",
    "        current_price = self.stock_price[self.current_step]\n",
    "        prev_price = self.stock_price[self.current_step - 1]\n",
    "\n",
    "        reward = 0\n",
    "        if action == 2:  # Buy\n",
    "            reward = current_price - prev_price\n",
    "        elif action == 0:  # Sell\n",
    "            reward = prev_price - current_price\n",
    "        else:  # Hold\n",
    "            reward = 0\n",
    "\n",
    "        # Avoid NaN reward\n",
    "        if np.isnan(reward):\n",
    "            reward = 0\n",
    "\n",
    "        self.current_step += 1\n",
    "        done = self.current_step >= len(self.data)\n",
    "\n",
    "        return self._next_observation(), reward, done, {}\n",
    "\n",
    "\n",
    "    def render(self, mode='human', close=False):\n",
    "        # You can add a way to visualize the current portfolio or balance here if needed\n",
    "        print(f\"Step: {self.current_step}, Stock Held: {self.stock_held}, Balance: {self.balance}\")\n",
    "\n",
    "\n",
    "env = TradingEnv(preprocessed_data['AAPL'])"
   ]
  },
  {
   "cell_type": "code",
   "execution_count": 18,
   "id": "b509bada",
   "metadata": {},
   "outputs": [
    {
     "name": "stdout",
     "output_type": "stream",
     "text": [
      "Using cpu device\n",
      "Wrapping the env with a `Monitor` wrapper\n",
      "Wrapping the env in a DummyVecEnv.\n"
     ]
    }
   ],
   "source": [
    "from stable_baselines3 import DQN\n",
    "\n",
    "env = TradingEnv(preprocessed_data['AAPL'])\n",
    "\n",
    "model = DQN('MlpPolicy', env, verbose=1)\n",
    "model.learn(total_timesteps=10000)\n",
    "model.save('trading_agent')"
   ]
  },
  {
   "cell_type": "code",
   "execution_count": 19,
   "id": "c5c253b6",
   "metadata": {},
   "outputs": [],
   "source": [
    "obs = env.reset()\n",
    "portfolio_value = 1000\n",
    "for _ in range(1000):\n",
    "    action, _states = model.predict(obs)\n",
    "    obs, reward, done, info = env.step(action)\n",
    "    \n",
    "    portfolio_value += reward\n",
    "\n",
    "    if done:\n",
    "        print(f'Portfolio Value: {portfolio_value}')\n",
    "        break"
   ]
  },
  {
   "cell_type": "code",
   "execution_count": 20,
   "id": "1d01b0b3",
   "metadata": {},
   "outputs": [
    {
     "data": {
      "image/png": "[encoded data removed]",
      "text/plain": [
       "<Figure size 640x480 with 1 Axes>"
      ]
     },
     "metadata": {},
     "output_type": "display_data"
    }
   ],
   "source": [
    "import matplotlib.pyplot as plt\n",
    "\n",
    "portfolio_values = []\n",
    "\n",
    "obs = env.reset()\n",
    "portfolio_value = 1000\n",
    "\n",
    "for _ in range(1000):\n",
    "    action, _states = model.predict(obs)\n",
    "    obs, reward, done, info = env.step(action)\n",
    "    \n",
    "    portfolio_value += reward\n",
    "    portfolio_values.append(portfolio_value)\n",
    "\n",
    "    if done:\n",
    "        break\n",
    "\n",
    "plt.plot(portfolio_values)\n",
    "plt.title('Portfolio Value over Time')\n",
    "plt.xlabel('Time Steps')\n",
    "plt.ylabel('Portfolio Value')\n",
    "plt.show()"
   ]
  },
  {
   "cell_type": "code",
   "execution_count": 21,
   "id": "7101fb8a",
   "metadata": {},
   "outputs": [
    {
     "name": "stdout",
     "output_type": "stream",
     "text": [
      "Using cpu device\n",
      "Wrapping the env with a `Monitor` wrapper\n",
      "Wrapping the env in a DummyVecEnv.\n"
     ]
    },
    {
     "data": {
      "text/plain": [
       "<stable_baselines3.dqn.dqn.DQN at 0x2b40ad27680>"
      ]
     },
     "execution_count": 21,
     "metadata": {},
     "output_type": "execute_result"
    }
   ],
   "source": [
    "model = DQN('MlpPolicy', env, learning_rate=0.001, batch_size=32, verbose=1)\n",
    "model.learn(total_timesteps=10000)"
   ]
  },
  {
   "cell_type": "code",
   "execution_count": 22,
   "id": "49e07c62",
   "metadata": {},
   "outputs": [
    {
     "name": "stdout",
     "output_type": "stream",
     "text": [
      "Using cpu device\n",
      "Wrapping the env with a `Monitor` wrapper\n",
      "Wrapping the env in a DummyVecEnv.\n",
      "-----------------------------\n",
      "| time/              |      |\n",
      "|    fps             | 1760 |\n",
      "|    iterations      | 1    |\n",
      "|    time_elapsed    | 1    |\n",
      "|    total_timesteps | 2048 |\n",
      "-----------------------------\n",
      "------------------------------------------\n",
      "| rollout/                |              |\n",
      "|    ep_len_mean          | 3.74e+03     |\n",
      "|    ep_rew_mean          | 15.4         |\n",
      "| time/                   |              |\n",
      "|    fps                  | 1199         |\n",
      "|    iterations           | 2            |\n",
      "|    time_elapsed         | 3            |\n",
      "|    total_timesteps      | 4096         |\n",
      "| train/                  |              |\n",
      "|    approx_kl            | 0.0050028022 |\n",
      "|    clip_fraction        | 0.0275       |\n",
      "|    clip_range           | 0.2          |\n",
      "|    entropy_loss         | -1.09        |\n",
      "|    explained_variance   | -5.96        |\n",
      "|    learning_rate        | 0.0003       |\n",
      "|    loss                 | 0.0157       |\n",
      "|    n_updates            | 10           |\n",
      "|    policy_gradient_loss | -0.00599     |\n",
      "|    value_loss           | 0.0557       |\n",
      "------------------------------------------\n",
      "----------------------------------------\n",
      "| rollout/                |            |\n",
      "|    ep_len_mean          | 3.74e+03   |\n",
      "|    ep_rew_mean          | 15.4       |\n",
      "| time/                   |            |\n",
      "|    fps                  | 1086       |\n",
      "|    iterations           | 3          |\n",
      "|    time_elapsed         | 5          |\n",
      "|    total_timesteps      | 6144       |\n",
      "| train/                  |            |\n",
      "|    approx_kl            | 0.01053041 |\n",
      "|    clip_fraction        | 0.102      |\n",
      "|    clip_range           | 0.2        |\n",
      "|    entropy_loss         | -1.09      |\n",
      "|    explained_variance   | -0.00774   |\n",
      "|    learning_rate        | 0.0003     |\n",
      "|    loss                 | 0.279      |\n",
      "|    n_updates            | 20         |\n",
      "|    policy_gradient_loss | -0.0104    |\n",
      "|    value_loss           | 0.586      |\n",
      "----------------------------------------\n",
      "------------------------------------------\n",
      "| rollout/                |              |\n",
      "|    ep_len_mean          | 3.74e+03     |\n",
      "|    ep_rew_mean          | 11.6         |\n",
      "| time/                   |              |\n",
      "|    fps                  | 1000         |\n",
      "|    iterations           | 4            |\n",
      "|    time_elapsed         | 8            |\n",
      "|    total_timesteps      | 8192         |\n",
      "| train/                  |              |\n",
      "|    approx_kl            | 0.0069567664 |\n",
      "|    clip_fraction        | 0.0389       |\n",
      "|    clip_range           | 0.2          |\n",
      "|    entropy_loss         | -1.08        |\n",
      "|    explained_variance   | -0.379       |\n",
      "|    learning_rate        | 0.0003       |\n",
      "|    loss                 | -0.00995     |\n",
      "|    n_updates            | 30           |\n",
      "|    policy_gradient_loss | -0.00853     |\n",
      "|    value_loss           | 0.0377       |\n",
      "------------------------------------------\n",
      "----------------------------------------\n",
      "| rollout/                |            |\n",
      "|    ep_len_mean          | 3.74e+03   |\n",
      "|    ep_rew_mean          | 11.6       |\n",
      "| time/                   |            |\n",
      "|    fps                  | 987        |\n",
      "|    iterations           | 5          |\n",
      "|    time_elapsed         | 10         |\n",
      "|    total_timesteps      | 10240      |\n",
      "| train/                  |            |\n",
      "|    approx_kl            | 0.00949784 |\n",
      "|    clip_fraction        | 0.075      |\n",
      "|    clip_range           | 0.2        |\n",
      "|    entropy_loss         | -1.06      |\n",
      "|    explained_variance   | -0.00792   |\n",
      "|    learning_rate        | 0.0003     |\n",
      "|    loss                 | 0.294      |\n",
      "|    n_updates            | 40         |\n",
      "|    policy_gradient_loss | -0.0094    |\n",
      "|    value_loss           | 0.702      |\n",
      "----------------------------------------\n"
     ]
    }
   ],
   "source": [
    "from stable_baselines3 import PPO\n",
    "\n",
    "model = PPO('MlpPolicy', env, verbose=1)\n",
    "model.learn(total_timesteps=10000)\n",
    "model.save(\"trading_agent_ppo\")"
   ]
  },
  {
   "cell_type": "code",
   "execution_count": null,
   "id": "deb5e8a5",
   "metadata": {},
   "outputs": [],
   "source": [
    "import ta\n",
    "\n",
    "for ticker in tickers:\n",
    "    df = preprocessed_data[ticker]  # get the DataFrame\n",
    "    \n",
    "    # Add technical indicators\n",
    "    df['RSI'] = ta.momentum.RSIIndicator(df['Close']).rsi()\n",
    "    macd = ta.trend.MACD(df['Close'])\n",
    "    df['MACD'] = macd.macd()\n",
    "    df['MACD_signal'] = macd.macd_signal()\n",
    "\n",
    "    preprocessed_data[ticker] = df"
   ]
  },
  {
   "cell_type": "code",
   "execution_count": null,
   "id": "dbb9b6d0",
   "metadata": {},
   "outputs": [],
   "source": []
  }
 ],
 "metadata": {
  "kernelspec": {
   "display_name": "Python 3",
   "language": "python",
   "name": "python3"
  },
  "language_info": {
   "codemirror_mode": {
    "name": "ipython",
    "version": 3
   },
   "file_extension": ".py",
   "mimetype": "text/x-python",
   "name": "python",
   "nbconvert_exporter": "python",
   "pygments_lexer": "ipython3",
   "version": "3.12.7"
  }
 },
 "nbformat": 4,
 "nbformat_minor": 5
}
